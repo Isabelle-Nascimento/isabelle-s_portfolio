{
 "cells": [
  {
   "cell_type": "code",
   "execution_count": 1,
   "id": "20b5a786-5d81-4a67-bcac-4f77d68a65fb",
   "metadata": {},
   "outputs": [
    {
     "name": "stdout",
     "output_type": "stream",
     "text": [
      "--2025-02-08 18:09:32--  https://jupyterlabnext-1-labs-prod-jupyterlab-us-east-0.labs.cognitiveclass.ai/hub/user-redirect/lab/tree/DA0321EN/lab/module4/survey_data_updated.csv\n",
      "Resolving jupyterlabnext-1-labs-prod-jupyterlab-us-east-0.labs.cognitiveclass.ai (jupyterlabnext-1-labs-prod-jupyterlab-us-east-0.labs.cognitiveclass.ai)... 23.213.89.236\n",
      "Connecting to jupyterlabnext-1-labs-prod-jupyterlab-us-east-0.labs.cognitiveclass.ai (jupyterlabnext-1-labs-prod-jupyterlab-us-east-0.labs.cognitiveclass.ai)|23.213.89.236|:443... connected.\n",
      "HTTP request sent, awaiting response... 302 Moved Temporarily\n",
      "Location: /hub/login?next=%2Fhub%2Fuser-redirect%2Flab%2Ftree%2FDA0321EN%2Flab%2Fmodule4%2Fsurvey_data_updated.csv [following]\n",
      "--2025-02-08 18:09:32--  https://jupyterlabnext-1-labs-prod-jupyterlab-us-east-0.labs.cognitiveclass.ai/hub/login?next=%2Fhub%2Fuser-redirect%2Flab%2Ftree%2FDA0321EN%2Flab%2Fmodule4%2Fsurvey_data_updated.csv\n",
      "Reusing existing connection to jupyterlabnext-1-labs-prod-jupyterlab-us-east-0.labs.cognitiveclass.ai:443.\n",
      "200 OKequest sent, awaiting response... \n",
      "Length: 6200 (6.1K) [text/html]\n",
      "Saving to: ‘survey_data_updated.csv.9’\n",
      "\n",
      "survey_data_updated 100%[===================>]   6.05K  --.-KB/s    in 0s      \n",
      "\n",
      "2025-02-08 18:09:33 (559 MB/s) - ‘survey_data_updated.csv.9’ saved [6200/6200]\n",
      "\n"
     ]
    }
   ],
   "source": [
    "!wget https://jupyterlabnext-1-labs-prod-jupyterlab-us-east-0.labs.cognitiveclass.ai/hub/user-redirect/lab/tree/DA0321EN/lab/module4/survey_data_updated.csv"
   ]
  },
  {
   "cell_type": "code",
   "execution_count": 2,
   "id": "2e4a8d53-2b94-4b51-a26a-4c0eb1f0ef53",
   "metadata": {},
   "outputs": [
    {
     "name": "stdout",
     "output_type": "stream",
     "text": [
      "Requirement already satisfied: pandas in /opt/conda/lib/python3.12/site-packages (2.2.3)\n",
      "Requirement already satisfied: numpy>=1.26.0 in /opt/conda/lib/python3.12/site-packages (from pandas) (2.2.2)\n",
      "Requirement already satisfied: python-dateutil>=2.8.2 in /opt/conda/lib/python3.12/site-packages (from pandas) (2.9.0.post0)\n",
      "Requirement already satisfied: pytz>=2020.1 in /opt/conda/lib/python3.12/site-packages (from pandas) (2024.2)\n",
      "Requirement already satisfied: tzdata>=2022.7 in /opt/conda/lib/python3.12/site-packages (from pandas) (2025.1)\n",
      "Requirement already satisfied: six>=1.5 in /opt/conda/lib/python3.12/site-packages (from python-dateutil>=2.8.2->pandas) (1.17.0)\n",
      "Requirement already satisfied: matplotlib in /opt/conda/lib/python3.12/site-packages (3.10.0)\n",
      "Requirement already satisfied: contourpy>=1.0.1 in /opt/conda/lib/python3.12/site-packages (from matplotlib) (1.3.1)\n",
      "Requirement already satisfied: cycler>=0.10 in /opt/conda/lib/python3.12/site-packages (from matplotlib) (0.12.1)\n",
      "Requirement already satisfied: fonttools>=4.22.0 in /opt/conda/lib/python3.12/site-packages (from matplotlib) (4.56.0)\n",
      "Requirement already satisfied: kiwisolver>=1.3.1 in /opt/conda/lib/python3.12/site-packages (from matplotlib) (1.4.8)\n",
      "Requirement already satisfied: numpy>=1.23 in /opt/conda/lib/python3.12/site-packages (from matplotlib) (2.2.2)\n",
      "Requirement already satisfied: packaging>=20.0 in /opt/conda/lib/python3.12/site-packages (from matplotlib) (24.2)\n",
      "Requirement already satisfied: pillow>=8 in /opt/conda/lib/python3.12/site-packages (from matplotlib) (11.1.0)\n",
      "Requirement already satisfied: pyparsing>=2.3.1 in /opt/conda/lib/python3.12/site-packages (from matplotlib) (3.2.1)\n",
      "Requirement already satisfied: python-dateutil>=2.7 in /opt/conda/lib/python3.12/site-packages (from matplotlib) (2.9.0.post0)\n",
      "Requirement already satisfied: six>=1.5 in /opt/conda/lib/python3.12/site-packages (from python-dateutil>=2.7->matplotlib) (1.17.0)\n"
     ]
    }
   ],
   "source": [
    "!pip install pandas \n",
    "!pip install matplotlib\n",
    "\n",
    "import pandas as pd\n",
    "import matplotlib.pyplot as plt"
   ]
  },
  {
   "cell_type": "code",
   "execution_count": 3,
   "id": "de674073-4b11-480c-af2b-1c926b105785",
   "metadata": {},
   "outputs": [
    {
     "data": {
      "text/html": [
       "<div>\n",
       "<style scoped>\n",
       "    .dataframe tbody tr th:only-of-type {\n",
       "        vertical-align: middle;\n",
       "    }\n",
       "\n",
       "    .dataframe tbody tr th {\n",
       "        vertical-align: top;\n",
       "    }\n",
       "\n",
       "    .dataframe thead th {\n",
       "        text-align: right;\n",
       "    }\n",
       "</style>\n",
       "<table border=\"1\" class=\"dataframe\">\n",
       "  <thead>\n",
       "    <tr style=\"text-align: right;\">\n",
       "      <th></th>\n",
       "      <th>ResponseId</th>\n",
       "      <th>MainBranch</th>\n",
       "      <th>Age</th>\n",
       "      <th>Employment</th>\n",
       "      <th>RemoteWork</th>\n",
       "      <th>Check</th>\n",
       "      <th>CodingActivities</th>\n",
       "      <th>EdLevel</th>\n",
       "      <th>LearnCode</th>\n",
       "      <th>LearnCodeOnline</th>\n",
       "      <th>...</th>\n",
       "      <th>JobSatPoints_6</th>\n",
       "      <th>JobSatPoints_7</th>\n",
       "      <th>JobSatPoints_8</th>\n",
       "      <th>JobSatPoints_9</th>\n",
       "      <th>JobSatPoints_10</th>\n",
       "      <th>JobSatPoints_11</th>\n",
       "      <th>SurveyLength</th>\n",
       "      <th>SurveyEase</th>\n",
       "      <th>ConvertedCompYearly</th>\n",
       "      <th>JobSat</th>\n",
       "    </tr>\n",
       "  </thead>\n",
       "  <tbody>\n",
       "    <tr>\n",
       "      <th>0</th>\n",
       "      <td>2</td>\n",
       "      <td>I am a developer by profession</td>\n",
       "      <td>35-44 years old</td>\n",
       "      <td>Employed, full-time</td>\n",
       "      <td>Remote</td>\n",
       "      <td>Apples</td>\n",
       "      <td>Hobby;Contribute to open-source projects;Other...</td>\n",
       "      <td>Bachelor's degree (B.A., B.S., B.Eng., etc.)</td>\n",
       "      <td>Books / Physical media;Colleague;On the job tr...</td>\n",
       "      <td>Technical documentation;Blogs;Books;Written Tu...</td>\n",
       "      <td>...</td>\n",
       "      <td>0.0</td>\n",
       "      <td>0.0</td>\n",
       "      <td>0.0</td>\n",
       "      <td>0.0</td>\n",
       "      <td>0.0</td>\n",
       "      <td>0.0</td>\n",
       "      <td>NaN</td>\n",
       "      <td>NaN</td>\n",
       "      <td>NaN</td>\n",
       "      <td>NaN</td>\n",
       "    </tr>\n",
       "    <tr>\n",
       "      <th>1</th>\n",
       "      <td>3</td>\n",
       "      <td>I am a developer by profession</td>\n",
       "      <td>45-54 years old</td>\n",
       "      <td>Employed, full-time</td>\n",
       "      <td>Remote</td>\n",
       "      <td>Apples</td>\n",
       "      <td>Hobby;Contribute to open-source projects;Other...</td>\n",
       "      <td>Master's degree (M.A., M.S., M.Eng., MBA, etc.)</td>\n",
       "      <td>Books / Physical media;Colleague;On the job tr...</td>\n",
       "      <td>Technical documentation;Blogs;Books;Written Tu...</td>\n",
       "      <td>...</td>\n",
       "      <td>NaN</td>\n",
       "      <td>NaN</td>\n",
       "      <td>NaN</td>\n",
       "      <td>NaN</td>\n",
       "      <td>NaN</td>\n",
       "      <td>NaN</td>\n",
       "      <td>Appropriate in length</td>\n",
       "      <td>Easy</td>\n",
       "      <td>NaN</td>\n",
       "      <td>NaN</td>\n",
       "    </tr>\n",
       "    <tr>\n",
       "      <th>2</th>\n",
       "      <td>10</td>\n",
       "      <td>I am a developer by profession</td>\n",
       "      <td>35-44 years old</td>\n",
       "      <td>Independent contractor, freelancer, or self-em...</td>\n",
       "      <td>Remote</td>\n",
       "      <td>Apples</td>\n",
       "      <td>Bootstrapping a business</td>\n",
       "      <td>Master's degree (M.A., M.S., M.Eng., MBA, etc.)</td>\n",
       "      <td>On the job training;Other online resources (e....</td>\n",
       "      <td>Technical documentation;Blogs;Written Tutorial...</td>\n",
       "      <td>...</td>\n",
       "      <td>NaN</td>\n",
       "      <td>NaN</td>\n",
       "      <td>NaN</td>\n",
       "      <td>NaN</td>\n",
       "      <td>NaN</td>\n",
       "      <td>NaN</td>\n",
       "      <td>Too long</td>\n",
       "      <td>Easy</td>\n",
       "      <td>NaN</td>\n",
       "      <td>NaN</td>\n",
       "    </tr>\n",
       "    <tr>\n",
       "      <th>3</th>\n",
       "      <td>11</td>\n",
       "      <td>I used to be a developer by profession, but no...</td>\n",
       "      <td>35-44 years old</td>\n",
       "      <td>Employed, full-time</td>\n",
       "      <td>Remote</td>\n",
       "      <td>Apples</td>\n",
       "      <td>Hobby;Contribute to open-source projects</td>\n",
       "      <td>Bachelor's degree (B.A., B.S., B.Eng., etc.)</td>\n",
       "      <td>Books / Physical media;Other online resources ...</td>\n",
       "      <td>Technical documentation;Books;Written Tutorial...</td>\n",
       "      <td>...</td>\n",
       "      <td>25.0</td>\n",
       "      <td>10.0</td>\n",
       "      <td>0.0</td>\n",
       "      <td>15.0</td>\n",
       "      <td>0.0</td>\n",
       "      <td>0.0</td>\n",
       "      <td>Appropriate in length</td>\n",
       "      <td>Easy</td>\n",
       "      <td>NaN</td>\n",
       "      <td>8.0</td>\n",
       "    </tr>\n",
       "    <tr>\n",
       "      <th>4</th>\n",
       "      <td>12</td>\n",
       "      <td>I am a developer by profession</td>\n",
       "      <td>45-54 years old</td>\n",
       "      <td>Employed, full-time</td>\n",
       "      <td>In-person</td>\n",
       "      <td>Apples</td>\n",
       "      <td>Hobby;School or academic work</td>\n",
       "      <td>Professional degree (JD, MD, Ph.D, Ed.D, etc.)</td>\n",
       "      <td>Books / Physical media;School (i.e., Universit...</td>\n",
       "      <td>NaN</td>\n",
       "      <td>...</td>\n",
       "      <td>NaN</td>\n",
       "      <td>NaN</td>\n",
       "      <td>NaN</td>\n",
       "      <td>NaN</td>\n",
       "      <td>NaN</td>\n",
       "      <td>NaN</td>\n",
       "      <td>Appropriate in length</td>\n",
       "      <td>Neither easy nor difficult</td>\n",
       "      <td>NaN</td>\n",
       "      <td>NaN</td>\n",
       "    </tr>\n",
       "  </tbody>\n",
       "</table>\n",
       "<p>5 rows × 114 columns</p>\n",
       "</div>"
      ],
      "text/plain": [
       "   ResponseId                                         MainBranch  \\\n",
       "0           2                     I am a developer by profession   \n",
       "1           3                     I am a developer by profession   \n",
       "2          10                     I am a developer by profession   \n",
       "3          11  I used to be a developer by profession, but no...   \n",
       "4          12                     I am a developer by profession   \n",
       "\n",
       "               Age                                         Employment  \\\n",
       "0  35-44 years old                                Employed, full-time   \n",
       "1  45-54 years old                                Employed, full-time   \n",
       "2  35-44 years old  Independent contractor, freelancer, or self-em...   \n",
       "3  35-44 years old                                Employed, full-time   \n",
       "4  45-54 years old                                Employed, full-time   \n",
       "\n",
       "  RemoteWork   Check                                   CodingActivities  \\\n",
       "0     Remote  Apples  Hobby;Contribute to open-source projects;Other...   \n",
       "1     Remote  Apples  Hobby;Contribute to open-source projects;Other...   \n",
       "2     Remote  Apples                           Bootstrapping a business   \n",
       "3     Remote  Apples           Hobby;Contribute to open-source projects   \n",
       "4  In-person  Apples                      Hobby;School or academic work   \n",
       "\n",
       "                                           EdLevel  \\\n",
       "0     Bachelor's degree (B.A., B.S., B.Eng., etc.)   \n",
       "1  Master's degree (M.A., M.S., M.Eng., MBA, etc.)   \n",
       "2  Master's degree (M.A., M.S., M.Eng., MBA, etc.)   \n",
       "3     Bachelor's degree (B.A., B.S., B.Eng., etc.)   \n",
       "4   Professional degree (JD, MD, Ph.D, Ed.D, etc.)   \n",
       "\n",
       "                                           LearnCode  \\\n",
       "0  Books / Physical media;Colleague;On the job tr...   \n",
       "1  Books / Physical media;Colleague;On the job tr...   \n",
       "2  On the job training;Other online resources (e....   \n",
       "3  Books / Physical media;Other online resources ...   \n",
       "4  Books / Physical media;School (i.e., Universit...   \n",
       "\n",
       "                                     LearnCodeOnline  ... JobSatPoints_6  \\\n",
       "0  Technical documentation;Blogs;Books;Written Tu...  ...            0.0   \n",
       "1  Technical documentation;Blogs;Books;Written Tu...  ...            NaN   \n",
       "2  Technical documentation;Blogs;Written Tutorial...  ...            NaN   \n",
       "3  Technical documentation;Books;Written Tutorial...  ...           25.0   \n",
       "4                                                NaN  ...            NaN   \n",
       "\n",
       "  JobSatPoints_7 JobSatPoints_8 JobSatPoints_9 JobSatPoints_10  \\\n",
       "0            0.0            0.0            0.0             0.0   \n",
       "1            NaN            NaN            NaN             NaN   \n",
       "2            NaN            NaN            NaN             NaN   \n",
       "3           10.0            0.0           15.0             0.0   \n",
       "4            NaN            NaN            NaN             NaN   \n",
       "\n",
       "  JobSatPoints_11           SurveyLength                  SurveyEase  \\\n",
       "0             0.0                    NaN                         NaN   \n",
       "1             NaN  Appropriate in length                        Easy   \n",
       "2             NaN               Too long                        Easy   \n",
       "3             0.0  Appropriate in length                        Easy   \n",
       "4             NaN  Appropriate in length  Neither easy nor difficult   \n",
       "\n",
       "  ConvertedCompYearly JobSat  \n",
       "0                 NaN    NaN  \n",
       "1                 NaN    NaN  \n",
       "2                 NaN    NaN  \n",
       "3                 NaN    8.0  \n",
       "4                 NaN    NaN  \n",
       "\n",
       "[5 rows x 114 columns]"
      ]
     },
     "execution_count": 3,
     "metadata": {},
     "output_type": "execute_result"
    }
   ],
   "source": [
    "df = pd.read_csv('survey_data_updated.csv')\n",
    "\n",
    "df.head()"
   ]
  },
  {
   "cell_type": "code",
   "execution_count": 4,
   "id": "fe4f1006-9d46-46c0-ac6f-1b2efcec12b1",
   "metadata": {},
   "outputs": [
    {
     "name": "stdout",
     "output_type": "stream",
     "text": [
      "['Bash/Shell (all shells);Go;HTML/CSS;Java;JavaScript;Python;TypeScript'\n",
      " 'C#' 'HTML/CSS;JavaScript;TypeScript' ...\n",
      " 'C#;Fortran;HTML/CSS;Java;JavaScript;PHP;SQL;VBA;Visual Basic (.Net)'\n",
      " 'Bash/Shell (all shells);C;C++;HTML/CSS;Java;JavaScript;PHP;SQL;TypeScript;VBA'\n",
      " 'Bash/Shell (all shells);C;C#;C++;Delphi;Groovy;HTML/CSS;Java;JavaScript;Objective-C;PowerShell;Python;SQL;Swift;TypeScript']\n",
      "['Dynamodb;MongoDB;PostgreSQL' 'Firebase Realtime Database'\n",
      " 'MongoDB;MySQL;PostgreSQL;Redis' ...\n",
      " 'Cassandra;Dynamodb;MySQL;PostgreSQL'\n",
      " 'MariaDB;Microsoft Access;MongoDB;MySQL;PostgreSQL;Redis'\n",
      " 'Couch DB;H2;Microsoft SQL Server;MySQL;Oracle;PostgreSQL;SQLite']\n",
      "['Amazon Web Services (AWS);Heroku;Netlify' 'Google Cloud'\n",
      " 'Amazon Web Services (AWS);Digital Ocean;Firebase;Vercel' ...\n",
      " 'Amazon Web Services (AWS);IBM Cloud Or Watson;OpenShift'\n",
      " 'Amazon Web Services (AWS);Firebase;Google Cloud;Microsoft Azure;Netlify;OpenShift;OpenStack'\n",
      " 'Amazon Web Services (AWS);Cloudflare;Digital Ocean;Firebase;Fly.io;Hetzner;Netlify;Supabase;Vercel']\n",
      "['Express;Next.js;Node.js;React' 'ASP.NET CORE'\n",
      " 'Node.js;React;Ruby on Rails' ...\n",
      " 'AngularJS;Astro;jQuery;Node.js;React;Vue.js'\n",
      " 'Drupal;Express;jQuery;Laravel;Next.js;Node.js;Nuxt.js;React;Spring Boot;Symfony;Vue.js;WordPress'\n",
      " 'Angular;AngularJS;ASP.NET;ASP.NET CORE;Drupal;jQuery;Next.js;Node.js;React;Spring Boot']\n",
      "['Bash/Shell (all shells);Go;HTML/CSS;Java;JavaScript;Kotlin;Python;TypeScript'\n",
      " 'C#' 'HTML/CSS;JavaScript;TypeScript' ...\n",
      " 'Assembly;C;C#;C++;HTML/CSS;Java;JavaScript;PHP;Python;SQL;VBA;Visual Basic (.Net)'\n",
      " 'Bash/Shell (all shells);C;C++;HTML/CSS;Java;JavaScript;PHP;Python;SQL;TypeScript'\n",
      " 'Bash/Shell (all shells);C#;Go;HTML/CSS;Java;JavaScript;Kotlin;Objective-C;Python;Rust;SQL;Swift;TypeScript']\n",
      "['PostgreSQL' 'Firebase Realtime Database'\n",
      " 'MongoDB;MySQL;PostgreSQL;Redis' ...\n",
      " 'Microsoft Access;Microsoft SQL Server;MySQL;Oracle;SQLite'\n",
      " 'Cassandra;Firebase Realtime Database;MariaDB;Microsoft Access;MongoDB;MySQL;PostgreSQL;Redis'\n",
      " 'Couch DB;Elasticsearch']\n",
      "['Amazon Web Services (AWS);Heroku;Netlify' 'Google Cloud'\n",
      " 'Amazon Web Services (AWS);Digital Ocean;Firebase;Vercel' ...\n",
      " 'Alibaba Cloud;Amazon Web Services (AWS);Digital Ocean;Microsoft Azure;Supabase'\n",
      " 'Firebase;Microsoft Azure;Netlify;Vercel'\n",
      " 'Amazon Web Services (AWS);Cloudflare;Firebase;Google Cloud;Heroku;Microsoft Azure;OVH;Vercel']\n",
      "['Express;Htmx;Node.js;React;Remix' 'ASP.NET CORE'\n",
      " 'Express;Next.js;Node.js;React' ... 'Astro;Solid.js;Svelte;Vue.js'\n",
      " 'ASP.NET;Laravel;React;Spring Boot'\n",
      " 'Django;Express;Laravel;NestJS;Next.js;Node.js;Nuxt.js;React;Spring Boot;Symfony;Vue.js;WordPress']\n",
      "['35-44 years old' '45-54 years old' '25-34 years old' '55-64 years old'\n",
      " '18-24 years old' 'Under 18 years old' '65 years or older'\n",
      " 'Prefer not to say']\n",
      "['United Kingdom of Great Britain and Northern Ireland' 'Serbia'\n",
      " 'United States of America' 'Poland' 'Germany' 'Ireland' 'Italy'\n",
      " 'Philippines' 'Brazil' 'Austria' 'France' 'Romania' 'Switzerland'\n",
      " 'Sweden' 'Republic of North Macedonia' 'Greece'\n",
      " 'United Republic of Tanzania' 'Japan' 'India' 'Argentina' 'Pakistan'\n",
      " 'Croatia' 'Turkey' 'Portugal' 'Sri Lanka' 'Hungary' 'Canada'\n",
      " 'Czech Republic' 'Bulgaria' 'Netherlands' 'Dominican Republic' 'Morocco'\n",
      " 'Russian Federation' 'Tunisia' 'Bangladesh' 'Ukraine' 'Viet Nam'\n",
      " 'Belgium' 'Spain' 'South Africa' 'Chile' 'Ghana' 'Israel' 'Bolivia'\n",
      " 'Luxembourg' 'Georgia' 'Saudi Arabia' 'Algeria' 'Lithuania' 'Kazakhstan'\n",
      " 'Jordan' 'Venezuela, Bolivarian Republic of...' 'Denmark' 'Nicaragua'\n",
      " 'Thailand' 'Indonesia' 'Mexico' 'Slovakia' 'El Salvador' 'Latvia' 'Peru'\n",
      " 'Malaysia' 'Finland' 'Zimbabwe' 'Malta' 'Uruguay' 'Nigeria' 'Colombia'\n",
      " 'Egypt' 'Albania' 'Afghanistan' 'Slovenia' 'Palestine' 'Ecuador'\n",
      " 'Paraguay' 'Ethiopia' 'New Zealand' 'Guatemala' 'Bosnia and Herzegovina'\n",
      " 'Norway' 'Costa Rica' 'Australia' 'Kenya' 'Armenia' 'Estonia' 'Iceland'\n",
      " 'Honduras' 'Hong Kong (S.A.R.)' 'South Korea' 'United Arab Emirates'\n",
      " 'China' 'Mongolia' 'Singapore' 'Cambodia' 'Iran, Islamic Republic of...'\n",
      " 'Nepal' 'Uzbekistan' 'Taiwan' 'Montenegro' 'Lebanon' 'Benin'\n",
      " 'Democratic Republic of the Congo' 'Belarus' 'Republic of Korea' 'Cyprus'\n",
      " 'Tajikistan' 'Isle of Man' 'Rwanda' 'Sierra Leone' 'Panama' 'Cuba'\n",
      " 'Kyrgyzstan' 'Syrian Arab Republic' 'Zambia' 'Togo' 'Oman' 'Uganda'\n",
      " 'Nomadic' 'Andorra' 'Turkmenistan' 'Qatar' 'Mauritius' 'Namibia' 'Kosovo'\n",
      " 'Angola' \"Côte d'Ivoire\" 'Malawi' 'Republic of Moldova' 'Iraq'\n",
      " 'Madagascar' 'Sudan' 'Cameroon' 'Azerbaijan' 'Central African Republic'\n",
      " 'Myanmar' 'Somalia' 'Suriname' 'Belize' 'Kuwait'\n",
      " 'Congo, Republic of the...' 'Burkina Faso' 'Bahrain' 'Yemen' 'Niger'\n",
      " 'Jamaica' 'Mauritania' 'Fiji' 'Mozambique' 'Antigua and Barbuda'\n",
      " 'Senegal' 'Trinidad and Tobago' 'Samoa' 'Bhutan' 'Brunei Darussalam'\n",
      " 'Burundi' 'Guyana' 'Maldives' 'Monaco' 'Mali' 'Cape Verde' 'Barbados']\n",
      "[\"Bachelor's degree (B.A., B.S., B.Eng., etc.)\"\n",
      " \"Master's degree (M.A., M.S., M.Eng., MBA, etc.)\"\n",
      " 'Professional degree (JD, MD, Ph.D, Ed.D, etc.)'\n",
      " 'Some college/university study without earning a degree'\n",
      " 'Secondary school (e.g. American high school, German Realschule or Gymnasium, etc.)'\n",
      " 'Associate degree (A.A., A.S., etc.)' 'Something else'\n",
      " 'Primary/elementary school']\n"
     ]
    }
   ],
   "source": [
    "print(df['LanguageHaveWorkedWith'].unique())\n",
    "print(df['DatabaseHaveWorkedWith'].unique())\n",
    "print(df['PlatformHaveWorkedWith'].unique())\n",
    "print(df['WebframeHaveWorkedWith'].unique())\n",
    "\n",
    "print(df['LanguageWantToWorkWith'].unique())\n",
    "print(df['DatabaseWantToWorkWith'].unique())\n",
    "print(df['PlatformWantToWorkWith'].unique())\n",
    "print(df['WebframeWantToWorkWith'].unique())\n",
    "\n",
    "print(df['Age'].unique())\n",
    "print(df['Country'].unique())\n",
    "print(df['EdLevel'].unique())"
   ]
  },
  {
   "cell_type": "code",
   "execution_count": 5,
   "id": "3882926d-f0b3-44b0-9b8d-6546f61ea490",
   "metadata": {},
   "outputs": [
    {
     "name": "stdout",
     "output_type": "stream",
     "text": [
      "Exploded DatabaseHaveWorkedWith\n"
     ]
    },
    {
     "data": {
      "text/plain": [
       "array(['Dynamodb', 'MongoDB', 'PostgreSQL', 'Firebase Realtime Database',\n",
       "       'MySQL', 'Redis', 'Elasticsearch', 'SQLite', 'Microsoft Access',\n",
       "       'Microsoft SQL Server', 'Presto', 'MariaDB', 'H2', 'Cosmos DB',\n",
       "       'BigQuery', 'DuckDB', 'Clickhouse', 'Cloud Firestore', 'Supabase',\n",
       "       'Cassandra', 'Oracle', 'InfluxDB', 'IBM DB2', 'Neo4J', 'Solr',\n",
       "       'Databricks SQL', 'Snowflake', 'EventStoreDB', 'RavenDB',\n",
       "       'Couch DB', 'Firebird', 'Cockroachdb', 'Couchbase', 'TiDB',\n",
       "       'Datomic'], dtype=object)"
      ]
     },
     "execution_count": 5,
     "metadata": {},
     "output_type": "execute_result"
    }
   ],
   "source": [
    "# Split and explode 'LanguageHaveWorkedWith'\n",
    "df['DatabaseHaveWorkedWith'] = df['DatabaseHaveWorkedWith'].str.split(';')\n",
    "df = df.explode('DatabaseHaveWorkedWith')\n",
    "print(\"Exploded DatabaseHaveWorkedWith\")\n",
    "df.to_csv(\"DatabaseHaveWorkedWith.csv\", index=False)\n",
    "df = pd.read_csv(\"DatabaseHaveWorkedWith.csv\")\n",
    "df['DatabaseHaveWorkedWith'].unique()"
   ]
  },
  {
   "cell_type": "code",
   "execution_count": 6,
   "id": "e677a17f-37e7-4ef8-87db-796da67ac4a9",
   "metadata": {},
   "outputs": [
    {
     "name": "stdout",
     "output_type": "stream",
     "text": [
      "Exploded DatabaseHaveWorkedWith\n"
     ]
    },
    {
     "data": {
      "text/plain": [
       "array(['Dynamodb', 'MongoDB', 'PostgreSQL', 'Firebase Realtime Database',\n",
       "       'MySQL', 'Redis', 'Elasticsearch', 'SQLite', 'Microsoft Access',\n",
       "       'Microsoft SQL Server', 'Presto', 'MariaDB', 'H2', 'Cosmos DB',\n",
       "       'BigQuery', 'DuckDB', 'Clickhouse', 'Cloud Firestore', 'Supabase',\n",
       "       'Cassandra', 'Oracle', 'InfluxDB', 'IBM DB2', 'Neo4J', 'Solr',\n",
       "       'Databricks SQL', 'Snowflake', 'EventStoreDB', 'RavenDB',\n",
       "       'Couch DB', 'Firebird', 'Cockroachdb', 'Couchbase', 'TiDB',\n",
       "       'Datomic'], dtype=object)"
      ]
     },
     "execution_count": 6,
     "metadata": {},
     "output_type": "execute_result"
    }
   ],
   "source": [
    "df = pd.read_csv('survey_data_updated.csv')\n",
    "\n",
    "df['DatabaseHaveWorkedWith'] = df['DatabaseHaveWorkedWith'].str.split(';')\n",
    "df = df.explode('DatabaseHaveWorkedWith')\n",
    "print(\"Exploded DatabaseHaveWorkedWith\")\n",
    "\n",
    "df.to_csv(\"2DatabaseHaveWorkedWith.csv\", index=False)\n",
    "df = pd.read_csv(\"2DatabaseHaveWorkedWith.csv\")\n",
    "df['DatabaseHaveWorkedWith'].unique()"
   ]
  },
  {
   "cell_type": "code",
   "execution_count": 7,
   "id": "bba8ad59-6815-4eb2-b31f-5c65094f66e6",
   "metadata": {},
   "outputs": [
    {
     "name": "stdout",
     "output_type": "stream",
     "text": [
      "Exploded LanguageHaveWorkedWith\n"
     ]
    },
    {
     "name": "stderr",
     "output_type": "stream",
     "text": [
      "/tmp/ipykernel_420/2473663861.py:8: DtypeWarning: Columns (11) have mixed types. Specify dtype option on import or set low_memory=False.\n",
      "  df = pd.read_csv(\"1LanguageHaveWorkedWith.csv\")\n"
     ]
    },
    {
     "data": {
      "text/plain": [
       "array(['Bash/Shell (all shells)', 'Go', 'HTML/CSS', 'Java', 'JavaScript',\n",
       "       'Python', 'TypeScript', 'C#', 'Ruby', 'C', 'C++', 'Delphi',\n",
       "       'PowerShell', 'SQL', 'VBA', 'Visual Basic (.Net)', 'PHP', 'F#',\n",
       "       'Scala', 'OCaml', 'Assembly', 'MATLAB', 'Dart', 'Fortran', 'Julia',\n",
       "       'Rust', 'Kotlin', 'Lua', 'Ada', 'Clojure', 'Crystal', 'Elixir',\n",
       "       'Erlang', 'Groovy', 'Haskell', 'Lisp', 'Perl', 'R', 'Zig',\n",
       "       'Prolog', 'Solidity', 'Objective-C', 'Swift', 'MicroPython',\n",
       "       'GDScript', 'Apex', 'Cobol', 'Nim', 'Zephyr'], dtype=object)"
      ]
     },
     "execution_count": 7,
     "metadata": {},
     "output_type": "execute_result"
    }
   ],
   "source": [
    "df = pd.read_csv('survey_data_updated.csv')\n",
    "\n",
    "df['LanguageHaveWorkedWith'] = df['LanguageHaveWorkedWith'].str.split(';')\n",
    "df = df.explode('LanguageHaveWorkedWith')\n",
    "print(\"Exploded LanguageHaveWorkedWith\")\n",
    "\n",
    "df.to_csv(\"1LanguageHaveWorkedWith.csv\", index=False)\n",
    "df = pd.read_csv(\"1LanguageHaveWorkedWith.csv\")\n",
    "df['LanguageHaveWorkedWith'].unique()"
   ]
  },
  {
   "cell_type": "code",
   "execution_count": 8,
   "id": "a1586a37-4454-4f09-9c2f-d6cd810ce133",
   "metadata": {},
   "outputs": [
    {
     "name": "stdout",
     "output_type": "stream",
     "text": [
      "Exploded PlatformHaveWorkedWith\n"
     ]
    },
    {
     "data": {
      "text/plain": [
       "array(['Amazon Web Services (AWS)', 'Heroku', 'Netlify', 'Google Cloud',\n",
       "       'Digital Ocean', 'Firebase', 'Vercel', 'Cloudflare',\n",
       "       'Microsoft Azure', 'Hetzner', 'VMware',\n",
       "       'Oracle Cloud Infrastructure (OCI)', 'Fly.io', 'Render',\n",
       "       'PythonAnywhere', 'Supabase', 'Managed Hosting', 'OVH', 'Vultr',\n",
       "       'Databricks', 'Linode, now Akamai', 'OpenStack', 'Colocation',\n",
       "       'IBM Cloud Or Watson', 'Scaleway', 'Alibaba Cloud', 'OpenShift'],\n",
       "      dtype=object)"
      ]
     },
     "execution_count": 8,
     "metadata": {},
     "output_type": "execute_result"
    }
   ],
   "source": [
    "df = pd.read_csv('survey_data_updated.csv')\n",
    "\n",
    "df['PlatformHaveWorkedWith'] = df['PlatformHaveWorkedWith'].str.split(';')\n",
    "df = df.explode('PlatformHaveWorkedWith')\n",
    "print(\"Exploded PlatformHaveWorkedWith\")\n",
    "\n",
    "df.to_csv(\"3PlatformHaveWorkedWith.csv\", index=False)\n",
    "df = pd.read_csv(\"3PlatformHaveWorkedWith.csv\")\n",
    "df['PlatformHaveWorkedWith'].unique()"
   ]
  },
  {
   "cell_type": "code",
   "execution_count": 9,
   "id": "0e829e00-c0ef-46d2-acb7-07854b6a4a76",
   "metadata": {},
   "outputs": [
    {
     "name": "stdout",
     "output_type": "stream",
     "text": [
      "Exploded WebframeHaveWorkedWith\n"
     ]
    },
    {
     "data": {
      "text/plain": [
       "array(['Express', 'Next.js', 'Node.js', 'React', 'ASP.NET CORE',\n",
       "       'Ruby on Rails', 'ASP.NET', 'jQuery', 'Blazor', 'Django',\n",
       "       'WordPress', 'AngularJS', 'CodeIgniter', 'NestJS', 'Spring Boot',\n",
       "       'Vue.js', 'Angular', 'FastAPI', 'Flask', 'Solid.js', 'Laravel',\n",
       "       'Deno', 'Htmx', 'Phoenix', 'Remix', 'Svelte', 'Drupal', 'Elm',\n",
       "       'Fastify', 'Gatsby', 'Nuxt.js', 'Strapi', 'Yii 2', 'Astro',\n",
       "       'Symfony', 'Play Framework'], dtype=object)"
      ]
     },
     "execution_count": 9,
     "metadata": {},
     "output_type": "execute_result"
    }
   ],
   "source": [
    "df = pd.read_csv('survey_data_updated.csv')\n",
    "\n",
    "df['WebframeHaveWorkedWith'] = df['WebframeHaveWorkedWith'].str.split(';')\n",
    "df = df.explode('WebframeHaveWorkedWith')\n",
    "print(\"Exploded WebframeHaveWorkedWith\")\n",
    "\n",
    "df.to_csv(\"4WebframeHaveWorkedWith.csv\", index=False)\n",
    "df = pd.read_csv(\"4WebframeHaveWorkedWith.csv\")\n",
    "\n",
    "df['WebframeHaveWorkedWith'].unique()"
   ]
  },
  {
   "cell_type": "code",
   "execution_count": 10,
   "id": "8f812264-a279-4e17-a646-e8d20a3aaefb",
   "metadata": {},
   "outputs": [
    {
     "name": "stdout",
     "output_type": "stream",
     "text": [
      "Exploded LanguageWantToWorkWith\n"
     ]
    },
    {
     "data": {
      "text/plain": [
       "array(['Bash/Shell (all shells)', 'Go', 'HTML/CSS', 'Java', 'JavaScript',\n",
       "       'Kotlin', 'Python', 'TypeScript', 'C#', 'Crystal', 'Ruby',\n",
       "       'PowerShell', 'Rust', 'SQL', 'F#', 'PHP', 'Scala', 'Elixir',\n",
       "       'Assembly', 'C++', 'Dart', 'Lua', 'Clojure', 'Erlang', 'Fortran',\n",
       "       'OCaml', 'R', 'Zig', 'Perl', 'C', 'Swift', 'Solidity', 'Haskell',\n",
       "       'Delphi', 'MicroPython', 'Visual Basic (.Net)', 'Groovy', 'Lisp',\n",
       "       'Objective-C', 'Prolog', 'Ada', 'Julia', 'GDScript', 'Nim', 'VBA',\n",
       "       'Cobol', 'MATLAB', 'Zephyr', 'Apex'], dtype=object)"
      ]
     },
     "execution_count": 10,
     "metadata": {},
     "output_type": "execute_result"
    }
   ],
   "source": [
    "df = pd.read_csv('survey_data_updated.csv')\n",
    "\n",
    "df['LanguageWantToWorkWith'] = df['LanguageWantToWorkWith'].str.split(';')\n",
    "df = df.explode('LanguageWantToWorkWith')\n",
    "print(\"Exploded LanguageWantToWorkWith\")\n",
    "\n",
    "df.to_csv(\"5LanguageWantToWorkWith.csv\", index=False)\n",
    "df = pd.read_csv(\"5LanguageWantToWorkWith.csv\")\n",
    "\n",
    "df['LanguageWantToWorkWith'].unique()"
   ]
  },
  {
   "cell_type": "code",
   "execution_count": 11,
   "id": "639df109-eb57-486e-ab83-552176ac1ac3",
   "metadata": {},
   "outputs": [
    {
     "name": "stdout",
     "output_type": "stream",
     "text": [
      "Exploded DatabaseWantToWorkWith\n"
     ]
    },
    {
     "data": {
      "text/plain": [
       "array(['PostgreSQL', 'Firebase Realtime Database', 'MongoDB', 'MySQL',\n",
       "       'Redis', 'Elasticsearch', 'SQLite', 'Microsoft SQL Server',\n",
       "       'Presto', 'MariaDB', 'Cosmos DB', 'Dynamodb', 'H2', 'Neo4J',\n",
       "       'Cloud Firestore', 'Cockroachdb', 'Couch DB', 'RavenDB',\n",
       "       'BigQuery', 'Databricks SQL', 'DuckDB', 'Clickhouse', 'Snowflake',\n",
       "       'Supabase', 'Oracle', 'Firebird', 'Datomic', 'IBM DB2',\n",
       "       'Cassandra', 'EventStoreDB', 'InfluxDB', 'Microsoft Access',\n",
       "       'Couchbase', 'Solr', 'TiDB'], dtype=object)"
      ]
     },
     "execution_count": 11,
     "metadata": {},
     "output_type": "execute_result"
    }
   ],
   "source": [
    "df = pd.read_csv('survey_data_updated.csv')\n",
    "\n",
    "df['DatabaseWantToWorkWith'] = df['DatabaseWantToWorkWith'].str.split(';')\n",
    "df = df.explode('DatabaseWantToWorkWith')\n",
    "print(\"Exploded DatabaseWantToWorkWith\")\n",
    "\n",
    "df.to_csv(\"6DatabaseWantToWorkWith.csv\", index=False)\n",
    "df = pd.read_csv(\"6DatabaseWantToWorkWith.csv\")\n",
    "\n",
    "df['DatabaseWantToWorkWith'].unique()"
   ]
  },
  {
   "cell_type": "code",
   "execution_count": 12,
   "id": "f224c125-49d5-4027-8034-1d5221791f8e",
   "metadata": {},
   "outputs": [
    {
     "name": "stdout",
     "output_type": "stream",
     "text": [
      "Exploded PlatformWantToWorkWith\n"
     ]
    },
    {
     "data": {
      "text/plain": [
       "array(['Amazon Web Services (AWS)', 'Heroku', 'Netlify', 'Google Cloud',\n",
       "       'Digital Ocean', 'Firebase', 'Vercel', 'Cloudflare',\n",
       "       'Microsoft Azure', 'Colocation', 'Hetzner', 'VMware',\n",
       "       'Oracle Cloud Infrastructure (OCI)', 'Fly.io', 'Databricks',\n",
       "       'Supabase', 'Vultr', 'OVH', 'Managed Hosting',\n",
       "       'Linode, now Akamai', 'OpenShift', 'OpenStack',\n",
       "       'IBM Cloud Or Watson', 'Alibaba Cloud', 'Render', 'Scaleway',\n",
       "       'PythonAnywhere'], dtype=object)"
      ]
     },
     "execution_count": 12,
     "metadata": {},
     "output_type": "execute_result"
    }
   ],
   "source": [
    "df = pd.read_csv('survey_data_updated.csv')\n",
    "\n",
    "df['PlatformWantToWorkWith'] = df['PlatformWantToWorkWith'].str.split(';')\n",
    "df = df.explode('PlatformWantToWorkWith')\n",
    "print(\"Exploded PlatformWantToWorkWith\")\n",
    "\n",
    "df.to_csv(\"7PlatformWantToWorkWith.csv\", index=False)\n",
    "df = pd.read_csv(\"7PlatformWantToWorkWith.csv\")\n",
    "\n",
    "df['PlatformWantToWorkWith'].unique()"
   ]
  },
  {
   "cell_type": "code",
   "execution_count": null,
   "id": "0220a845-7ad7-4c4b-92db-9c802a499d2e",
   "metadata": {},
   "outputs": [
    {
     "name": "stdout",
     "output_type": "stream",
     "text": [
      "Exploded WebframeWantToWorkWith\n"
     ]
    }
   ],
   "source": [
    "df = pd.read_csv('survey_data_updated.csv')\n",
    "\n",
    "df['WebframeWantToWorkWith'] = df['WebframeWantToWorkWith'].str.split(';')\n",
    "df = df.explode('WebframeWantToWorkWith')\n",
    "print(\"Exploded WebframeWantToWorkWith\")\n",
    "\n",
    "df.to_csv(\"8WebframeWantToWorkWith.csv\", index=False)\n",
    "df = pd.read_csv(\"8WebframeWantToWorkWith.csv\")\n",
    "\n",
    "df['WebframeWantToWorkWith'].unique()"
   ]
  },
  {
   "cell_type": "code",
   "execution_count": null,
   "id": "07e3ca4f-ff2f-4a04-9f0f-c8c94f34b31b",
   "metadata": {},
   "outputs": [],
   "source": []
  }
 ],
 "metadata": {
  "kernelspec": {
   "display_name": "Python 3 (ipykernel)",
   "language": "python",
   "name": "python3"
  },
  "language_info": {
   "codemirror_mode": {
    "name": "ipython",
    "version": 3
   },
   "file_extension": ".py",
   "mimetype": "text/x-python",
   "name": "python",
   "nbconvert_exporter": "python",
   "pygments_lexer": "ipython3",
   "version": "3.12.8"
  }
 },
 "nbformat": 4,
 "nbformat_minor": 5
}
